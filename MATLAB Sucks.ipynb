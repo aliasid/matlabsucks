{
 "cells": [
  {
   "cell_type": "markdown",
   "metadata": {},
   "source": [
    "MATLAB Sucks\n",
    "========"
   ]
  },
  {
   "cell_type": "markdown",
   "metadata": {},
   "source": [
    "## Proprietary\n",
    "MathWorks, Inc. owns and controls development of the language, IDE, and libraries (“toolboxes”). Features will be added and bugs fixed only when MathWorks decides they should be. You and anyone that works with your code will pay MathWorks forever."
   ]
  },
  {
   "cell_type": "markdown",
   "metadata": {},
   "source": [
    "* Your code will fail if a license server is unavailable or if there are currently no available licenses for MATLAB or a required toolbox."
   ]
  },
  {
   "cell_type": "code",
   "execution_count": 38,
   "metadata": {},
   "outputs": [
    {
     "name": "stdout",
     "output_type": "stream",
     "text": [
      "Ready\n"
     ]
    }
   ],
   "source": [
    "% Wait for available license \n",
    "while license('checkout','Control_Toolbox')\n",
    "    pause(3600);\n",
    "end\n",
    "disp('Ready');"
   ]
  },
  {
   "cell_type": "markdown",
   "metadata": {},
   "source": [
    "* The mean() function is included with the price of MATLAB. However, nanmean() is in the \"Statistics and Machine Learning Toolbox\"(additional cost). Here is the complete code of nanmean():"
   ]
  },
  {
   "cell_type": "code",
   "execution_count": 35,
   "metadata": {},
   "outputs": [
    {
     "name": "stdout",
     "output_type": "stream",
     "text": [
      "error: too many input arguments\n",
      "error: called from:\n",
      "error:   /usr/share/octave/3.6.2/m/general/narginchk.m at line 53, column 5\n",
      "error: `varargin' undefined near line 99 column 10\n",
      "error: evaluating argument list element number 1\n",
      "error: evaluating argument list element number 1\n"
     ]
    }
   ],
   "source": [
    "narginchk(1,2);\n",
    "y = mean(varargin{:},'omitnan');"
   ]
  },
  {
   "cell_type": "markdown",
   "metadata": {},
   "source": [
    "## Indexing starts at one \n",
    "Zero-based indexing makes calculations easier and has a natural advantage to one-based indexing in avoiding off-by-one or fencepost errors. (\"Talk to our neighboor, two doors over.\" Does our house count as 0 or 1?)  [link](http://www.cs.utexas.edu/users/EWD/transcriptions/EWD08xx/EWD831.html) [link](https://www.johndcook.com/blog/2008/06/26/why-computer-scientists-count-from-zero/)"
   ]
  },
  {
   "cell_type": "code",
   "execution_count": 32,
   "metadata": {},
   "outputs": [
    {
     "name": "stdout",
     "output_type": "stream",
     "text": [
      "Group: 0 Member: a\n",
      "Group: 0 Member: b\n",
      "Group: 0 Member: c\n",
      "Group: 1 Member: d\n",
      "Group: 1 Member: e\n",
      "Group: 1 Member: f\n",
      "Group: 2 Member: g\n",
      "Group: 2 Member: h\n",
      "Group: 2 Member: i\n"
     ]
    }
   ],
   "source": [
    "population = ['a' 'b' 'c' 'd' 'e' 'f' 'g' 'h' 'i'];\n",
    "group_size = 3;\n",
    "\n",
    "% MATLAB\n",
    "for i=1:numel(population)\n",
    "    group_number = idivide((i-1),int32(group_size));\n",
    "    fprintf('Group: %d Member: %s\\n',group_number,population(i))\n",
    "end\n",
    "\n",
    "% Using a 0-based language...\n",
    "% for i in range(len(population)):\n",
    "%    group_number = i // group_size\n",
    "%    print('Group: '+group_number+' Member: '+population(i))\n"
   ]
  },
  {
   "cell_type": "markdown",
   "metadata": {},
   "source": [
    "## Parentheses are confusing\n",
    "In MATLAB, parentheses are used to index arrays AND to specify parameter lists for functions and methods. Most languages use square brackets to index arrays. MATLAB's dual purpose use of parentheses has ramifications. \n",
    "* For example, when a function returns an array, your code can’t extract an element without using an intermediate variable or an anonymous function."
   ]
  },
  {
   "cell_type": "code",
   "execution_count": 4,
   "metadata": {},
   "outputs": [
    {
     "name": "stdout",
     "output_type": "stream",
     "text": [
      "parse error:\n",
      "\n",
      "  syntax error\n",
      "\n",
      ">>> >> x = and([1 0 1],[1 0 0])(1)  % Error: ()-indexing must appear last in an index expression.\n",
      "     ^\n",
      "\n"
     ]
    }
   ],
   "source": [
    ">> x = and([1 0 1],[1 0 0])(1)  % Error: ()-indexing must appear last in an index expression."
   ]
  },
  {
   "cell_type": "markdown",
   "metadata": {},
   "source": [
    "* Also, variables and functions can be confused because function calls WITHOUT parentheses are permitted."
   ]
  },
  {
   "cell_type": "code",
   "execution_count": 5,
   "metadata": {},
   "outputs": [
    {
     "name": "stdout",
     "output_type": "stream",
     "text": [
      "How does this work? A \"flag\" variable was never declared! Why is there all this whitespace below?\n"
     ]
    },
    {
     "data": {
      "image/png": "[encoded data removed]",
      "text/plain": [
       "<IPython.core.display.Image object>"
      ]
     },
     "metadata": {},
     "output_type": "display_data"
    }
   ],
   "source": [
    "if flag <= 1\n",
    "    fprintf('How does this work? A \"flag\" variable was never declared! Why is there all this whitespace below?\\n');\n",
    "end"
   ]
  },
  {
   "cell_type": "markdown",
   "metadata": {},
   "source": [
    "## Character arrays and strings\n",
    "Character arrays were originally used to store string data. A “string” data type was added later. It is difficult to predict how code will function.\n",
    "* strcat() fails to preserve trailing whitespace for character arrays. “For character array inputs, strcat removes trailing ASCII white-space…[However] For cell and string array inputs, strcat does not…” [link](https://www.mathworks.com/matlabcentral/answers/9285-strcat-including-space-i-e)\n",
    "* Use of square brackets to concatenate character arrays and strings produces a string array, not a single string or character array ."
   ]
  },
  {
   "cell_type": "code",
   "execution_count": 6,
   "metadata": {},
   "outputs": [
    {
     "name": "stdout",
     "output_type": "stream",
     "text": [
      "good day\n",
      "good day\n",
      "goodday\n",
      "goodday\n",
      "good day\n",
      "good day\n",
      "good daygood day\n"
     ]
    }
   ],
   "source": [
    "c = 'good ';            % Character array \n",
    "s = \"good \";            % String, use string() in some versions\n",
    "\n",
    "disp(      [c 'day']);  % \"good day\"\n",
    "disp(      [s 'day']);  % \"good\"    \"day\"\n",
    "\n",
    "disp(strcat(c,'day'));  % \"goodday\" \n",
    "disp(strcat(s,'day'));  % \"good day\" \n",
    "\n",
    "fprintf(   [c 'day']);  % \"good day\" \n",
    "fprintf(   [s 'day']);  % !!! ERROR !!! (works in Octave)"
   ]
  },
  {
   "cell_type": "markdown",
   "metadata": {},
   "source": [
    "* strcmp() does not provide lexicographic distance (three-way comparison). It returns 1 if the differences between values is 0. This differs and is opposite from the earlier implementation of the identically named funciton in C.  "
   ]
  },
  {
   "cell_type": "code",
   "execution_count": 39,
   "metadata": {},
   "outputs": [
    {
     "name": "stdout",
     "output_type": "stream",
     "text": [
      "ans =  1\n",
      "ans = 0\n"
     ]
    }
   ],
   "source": [
    "strcmp('abc','abc')\n",
    "strcmp('abc','xyz')"
   ]
  },
  {
   "cell_type": "markdown",
   "metadata": {},
   "source": [
    "## Initializing object properties is unintuitive. \n",
    "\"Evaluation of property default values occurs only when the value is first needed, and only once when MATLAB first initializes the class. MATLAB does not reevaluate the expression each time you create an instance of the class.\" [link](https://www.mathworks.com/help/matlab/matlab_oop/specifying-properties.html)"
   ]
  },
  {
   "cell_type": "code",
   "execution_count": 45,
   "metadata": {},
   "outputs": [],
   "source": [
    "classdef Test\n",
    "    properties\n",
    "        timestamp = datetime();\n",
    "    end\n",
    "    \n",
    "    methods\n",
    "        function obj = Test()\n",
    "            disp(obj.timestamp);\n",
    "        end\n",
    "    end\n",
    "    \n",
    "    methods(Static)\n",
    "        function run()\n",
    "            Test();    % Create obj1, display current time\n",
    "            pause(10); % Wait 10 sec\n",
    "            Test();    % Create obj2, display IDENTICAL time! \n",
    "        end\n",
    "    end\n",
    "end"
   ]
  },
  {
   "cell_type": "code",
   "execution_count": 47,
   "metadata": {},
   "outputs": [
    {
     "name": "stdout",
     "output_type": "stream",
     "text": [
      "error: `Test' undefined near line 122 column 1\n"
     ]
    }
   ],
   "source": [
    "Test.run()\n"
   ]
  },
  {
   "cell_type": "markdown",
   "metadata": {},
   "source": [
    "## Default values for function arguments are cumbersome."
   ]
  },
  {
   "cell_type": "code",
   "execution_count": 10,
   "metadata": {},
   "outputs": [],
   "source": [
    "function val = inc(a, varargin)   % why not \"...b=1)\"?\n",
    "    if ~exist('b', 'var')\n",
    "        b = 1;\n",
    "    end\n",
    "    \n",
    "    val = a + b';\n",
    "end"
   ]
  },
  {
   "cell_type": "markdown",
   "metadata": {},
   "source": [
    "## Can’t use property as a for-loop variable."
   ]
  },
  {
   "cell_type": "code",
   "execution_count": 11,
   "metadata": {},
   "outputs": [],
   "source": [
    "classdef Test\n",
    "    properties\n",
    "        i;\n",
    "    end\n",
    "    \n",
    "    methods\n",
    "        function obj = Test()\n",
    "            for obj.i=1:10      % !!! ERROR !!!\n",
    "                if something(obj.i)\n",
    "                    break;\n",
    "                end\n",
    "            end\n",
    "        end\n",
    "    end\n",
    "end\n"
   ]
  },
  {
   "cell_type": "markdown",
   "metadata": {},
   "source": [
    "## Logical expressions are tricky."
   ]
  },
  {
   "cell_type": "code",
   "execution_count": 12,
   "metadata": {},
   "outputs": [
    {
     "name": "stdout",
     "output_type": "stream",
     "text": [
      "True\n",
      "True\n",
      "True\n"
     ]
    }
   ],
   "source": [
    "if 1 == 1 && 1 == 1\n",
    "    disp('True');         % \"True\"\n",
    "end\n",
    "\n",
    "if [1 1] == [1 1]\n",
    "    disp('True');         % \"True\"\n",
    "end\n",
    "\n",
    "if [1 1] == [1 1] && [1 1] == [1 1]    % !!! ERROR !!!\n",
    "    disp('True');          \n",
    "end"
   ]
  },
  {
   "cell_type": "markdown",
   "metadata": {},
   "source": [
    "## Adding to empty array (\"[]\") is unintuitive. "
   ]
  },
  {
   "cell_type": "code",
   "execution_count": 28,
   "metadata": {},
   "outputs": [
    {
     "name": "stdout",
     "output_type": "stream",
     "text": [
      "x = [](0x0)\n",
      "x = [](0x0)\n",
      "x =  \n"
     ]
    }
   ],
   "source": [
    "x = []\n",
    "x = x + 1\n",
    "x = [x ' ']"
   ]
  },
  {
   "cell_type": "markdown",
   "metadata": {},
   "source": [
    "## Appending a function handle to a cell array calls the function!"
   ]
  },
  {
   "cell_type": "code",
   "execution_count": 14,
   "metadata": {},
   "outputs": [],
   "source": [
    "a = @(x) 1;"
   ]
  },
  {
   "cell_type": "code",
   "execution_count": 15,
   "metadata": {},
   "outputs": [],
   "source": [
    "x = {'1',2};"
   ]
  },
  {
   "cell_type": "code",
   "execution_count": 16,
   "metadata": {},
   "outputs": [
    {
     "name": "stdout",
     "output_type": "stream",
     "text": [
      "ans = \n",
      "{\n",
      "  [1,1] =\n",
      "\n",
      "@(x) 1\n",
      "\n",
      "  [1,2] = 1\n",
      "  [1,3] =  2\n",
      "}\n"
     ]
    }
   ],
   "source": [
    "[a,x]"
   ]
  },
  {
   "cell_type": "code",
   "execution_count": 17,
   "metadata": {},
   "outputs": [
    {
     "name": "stdout",
     "output_type": "stream",
     "text": [
      "ans = \n",
      "{\n",
      "  [1,1] =  1\n",
      "  [1,2] = 1\n",
      "  [1,3] =  2\n",
      "}\n"
     ]
    }
   ],
   "source": [
    "[1,x]"
   ]
  },
  {
   "cell_type": "code",
   "execution_count": 18,
   "metadata": {},
   "outputs": [
    {
     "name": "stdout",
     "output_type": "stream",
     "text": [
      "ans = \n",
      "{\n",
      "  [1,1] =\n",
      "\n",
      "@(x) 1\n",
      "\n",
      "  [1,2] = 1\n",
      "  [1,3] =  2\n",
      "}\n"
     ]
    }
   ],
   "source": [
    "{a, x{:}}"
   ]
  },
  {
   "cell_type": "markdown",
   "metadata": {},
   "source": [
    "## Saving and loading values is a hassle."
   ]
  },
  {
   "cell_type": "code",
   "execution_count": 19,
   "metadata": {},
   "outputs": [
    {
     "name": "stdout",
     "output_type": "stream",
     "text": [
      "error: : expecting all arguments to be strings\n"
     ]
    }
   ],
   "source": [
    "save('value.mat',2+2); "
   ]
  },
  {
   "cell_type": "markdown",
   "metadata": {},
   "source": [
    "What? But I want to save a numerical value. Wait, maybe you can only save variables (not values). Let's try this..."
   ]
  },
  {
   "cell_type": "code",
   "execution_count": 20,
   "metadata": {},
   "outputs": [
    {
     "name": "stdout",
     "output_type": "stream",
     "text": [
      "error: : expecting all arguments to be strings\n"
     ]
    }
   ],
   "source": [
    "x = 2 + 2;\n",
    "save('myfile.mat',x);"
   ]
  },
  {
   "cell_type": "markdown",
   "metadata": {},
   "source": [
    "Nope. You must specify the variable's _name_ as a string!"
   ]
  },
  {
   "cell_type": "code",
   "execution_count": 21,
   "metadata": {},
   "outputs": [],
   "source": [
    "x = 2 + 2;\n",
    "save('myfile.mat','x');"
   ]
  },
  {
   "cell_type": "markdown",
   "metadata": {},
   "source": [
    "Great. Now MATLAB warns me that \"x may be unused\". And, when I rename \"x\" to be \"x_axis_value\", I need to remember to manually update \"save(...\" because refactoring won't catch it. "
   ]
  },
  {
   "cell_type": "markdown",
   "metadata": {},
   "source": [
    "Okay, whatever. Now let's load the value..."
   ]
  },
  {
   "cell_type": "code",
   "execution_count": 22,
   "metadata": {},
   "outputs": [
    {
     "name": "stdout",
     "output_type": "stream",
     "text": [
      "error: binary operator `==' not implemented for `scalar struct' by `scalar' operations\n"
     ]
    }
   ],
   "source": [
    "x = load('myfile.mat');\n",
    "if x == 4\n",
    "    disp('This works, right?');\n",
    "end"
   ]
  },
  {
   "cell_type": "markdown",
   "metadata": {},
   "source": [
    "What? Why doesn't this work? I just saved it! Turns out that load() returns the value in a struct (for some reason) containing a field with the name of the saved variable."
   ]
  },
  {
   "cell_type": "code",
   "execution_count": 23,
   "metadata": {},
   "outputs": [
    {
     "name": "stdout",
     "output_type": "stream",
     "text": [
      "Finally!\n"
     ]
    }
   ],
   "source": [
    "x = load('myfile.mat');\n",
    "if x.x == 4\n",
    "    disp('Finally!');\n",
    "end"
   ]
  },
  {
   "cell_type": "markdown",
   "metadata": {},
   "source": [
    "Now, if I ever rename x, I've got to remember to also manually update it in two places."
   ]
  },
  {
   "cell_type": "markdown",
   "metadata": {},
   "source": [
    "## The exist() function can be tricky."
   ]
  },
  {
   "cell_type": "code",
   "execution_count": 24,
   "metadata": {},
   "outputs": [
    {
     "name": "stdout",
     "output_type": "stream",
     "text": [
      "ans = /home/communityhub/rcampbel/notebooks\n",
      "archive\t\t    octave-core\n",
      "DOCS_AND_EXAMPLES   orthophotos\n",
      "IPL Demo.ipynb\t    part_20170830_F41_GNSS_INS_1cm-3048x3452-4790x4778.xml\n",
      "MATLAB Sucks.ipynb  plotextraction.ipynb\n",
      "myfile.mat\t    __pycache__\n"
     ]
    }
   ],
   "source": [
    "pwd\n",
    "ls"
   ]
  },
  {
   "cell_type": "code",
   "execution_count": 6,
   "metadata": {},
   "outputs": [
    {
     "name": "stdout",
     "output_type": "stream",
     "text": [
      "ans = /home/communityhub/rcampbel/notebooks\n",
      "ans =  7\n"
     ]
    }
   ],
   "source": [
    "pwd\n",
    "exist('archive','dir') # (Octave difference)"
   ]
  },
  {
   "cell_type": "markdown",
   "metadata": {},
   "source": [
    "## NaN is tricky"
   ]
  },
  {
   "cell_type": "code",
   "execution_count": 1,
   "metadata": {},
   "outputs": [
    {
     "name": "stdout",
     "output_type": "stream",
     "text": [
      "ans =  1\n",
      "ans =  1\n",
      "ans = 0\n",
      "ans = 0\n",
      "ans = 0\n",
      "x = NaN\n",
      "y = NaN\n",
      "ans = 0\n",
      "ans =  1\n"
     ]
    }
   ],
   "source": [
    "1 == true\n",
    "0 == false\n",
    "NaN == true\n",
    "NaN == false\n",
    "NaN == NaN\n",
    "x = NaN\n",
    "y = NaN\n",
    "x == y \n",
    "isnan(x) % Must always check all numbers for possible NaNs"
   ]
  },
  {
   "cell_type": "markdown",
   "metadata": {},
   "source": [
    "## Element-wise comparison is tricky"
   ]
  },
  {
   "cell_type": "code",
   "execution_count": 4,
   "metadata": {},
   "outputs": [
    {
     "name": "stdout",
     "output_type": "stream",
     "text": [
      "ans = [](0x0)\n",
      "ans = [](0x0)\n",
      "ans =  1\n"
     ]
    }
   ],
   "source": [
    "[] |  [true]  \n",
    "[] |   true  \n",
    "[] || [true]"
   ]
  },
  {
   "cell_type": "markdown",
   "metadata": {},
   "source": [
    "## More info\n",
    "\n",
    "[link](http://neuroplausible.com/matlab)\n",
    "[link](http://www.inferencelab.com/matlab-rant-2/)\n",
    "[link](https://www.nayuki.io/page/matlab-language-pet-peeves)"
   ]
  },
  {
   "cell_type": "code",
   "execution_count": 26,
   "metadata": {},
   "outputs": [
    {
     "name": "stdout",
     "output_type": "stream",
     "text": [
      "\n",
      "Octave's search path contains the following directories:\n",
      "\n",
      ".\n",
      "/apps/share64/debian7/anaconda/anaconda3-5.1/lib/python3.6/site-packages/octave_kernel\n",
      "/usr/lib/x86_64-linux-gnu/octave/packages/signal-1.1.3/x86_64-pc-linux-gnu-api-v48+\n",
      "/usr/share/octave/packages/signal-1.1.3\n",
      "/usr/lib/x86_64-linux-gnu/octave/packages/specfun-1.1.0/x86_64-pc-linux-gnu-api-v48+\n",
      "/usr/share/octave/packages/specfun-1.1.0\n",
      "/usr/lib/x86_64-linux-gnu/octave/packages/optim-1.2.0/x86_64-pc-linux-gnu-api-v48+\n",
      "/usr/share/octave/packages/optim-1.2.0\n",
      "/usr/lib/x86_64-linux-gnu/octave/packages/miscellaneous-1.1.0/x86_64-pc-linux-gnu-api-v48+\n",
      "/usr/share/octave/packages/miscellaneous-1.1.0\n",
      "/usr/lib/x86_64-linux-gnu/octave/packages/struct-1.0.10/x86_64-pc-linux-gnu-api-v48+\n",
      "/usr/share/octave/packages/struct-1.0.10\n",
      "/usr/lib/x86_64-linux-gnu/octave/packages/image-1.0.15/x86_64-pc-linux-gnu-api-v48+\n",
      "/usr/share/octave/packages/image-1.0.15\n",
      "/usr/lib/x86_64-linux-gnu/octave/packages/control-2.3.52/x86_64-pc-linux-gnu-api-v48+\n",
      "/usr/share/octave/packages/control-2.3.52\n",
      "/usr/lib/x86_64-linux-gnu/octave/3.6.2/site/oct/x86_64-pc-linux-gnu\n",
      "/usr/lib/x86_64-linux-gnu/octave/site/oct/api-v48+/x86_64-pc-linux-gnu\n",
      "/usr/lib/x86_64-linux-gnu/octave/site/oct/x86_64-pc-linux-gnu\n",
      "/usr/share/octave/3.6.2/site/m\n",
      "/usr/share/octave/site/api-v48+/m\n",
      "/usr/share/octave/site/m\n",
      "/usr/share/octave/site/m/fsl-4.1\n",
      "/usr/share/octave/site/m/startup\n",
      "/usr/lib/x86_64-linux-gnu/octave/3.6.2/oct/x86_64-pc-linux-gnu\n",
      "/usr/share/octave/3.6.2/m\n",
      "/usr/share/octave/3.6.2/m/audio\n",
      "/usr/share/octave/3.6.2/m/specfun\n",
      "/usr/share/octave/3.6.2/m/statistics\n",
      "/usr/share/octave/3.6.2/m/statistics/tests\n",
      "/usr/share/octave/3.6.2/m/statistics/base\n",
      "/usr/share/octave/3.6.2/m/statistics/distributions\n",
      "/usr/share/octave/3.6.2/m/statistics/models\n",
      "/usr/share/octave/3.6.2/m/strings\n",
      "/usr/share/octave/3.6.2/m/help\n",
      "/usr/share/octave/3.6.2/m/general\n",
      "/usr/share/octave/3.6.2/m/special-matrix\n",
      "/usr/share/octave/3.6.2/m/time\n",
      "/usr/share/octave/3.6.2/m/prefs\n",
      "/usr/share/octave/3.6.2/m/optimization\n",
      "/usr/share/octave/3.6.2/m/path\n",
      "/usr/share/octave/3.6.2/m/io\n",
      "/usr/share/octave/3.6.2/m/deprecated\n",
      "/usr/share/octave/3.6.2/m/testfun\n",
      "/usr/share/octave/3.6.2/m/image\n",
      "/usr/share/octave/3.6.2/m/sparse\n",
      "/usr/share/octave/3.6.2/m/set\n",
      "/usr/share/octave/3.6.2/m/startup\n",
      "/usr/share/octave/3.6.2/m/elfun\n",
      "/usr/share/octave/3.6.2/m/pkg\n",
      "/usr/share/octave/3.6.2/m/polynomial\n",
      "/usr/share/octave/3.6.2/m/geometry\n",
      "/usr/share/octave/3.6.2/m/miscellaneous\n",
      "/usr/share/octave/3.6.2/m/plot\n",
      "/usr/share/octave/3.6.2/m/linear-algebra\n",
      "/usr/share/octave/3.6.2/m/signal\n",
      "\n"
     ]
    }
   ],
   "source": []
  },
  {
   "cell_type": "code",
   "execution_count": null,
   "metadata": {},
   "outputs": [],
   "source": []
  }
 ],
 "metadata": {
  "kernelspec": {
   "display_name": "Octave",
   "language": "octave",
   "name": "octave"
  },
  "language_info": {
   "file_extension": ".m",
   "help_links": [
    {
     "text": "GNU Octave",
     "url": "https://www.gnu.org/software/octave/support.html"
    },
    {
     "text": "Octave Kernel",
     "url": "https://github.com/Calysto/octave_kernel"
    },
    {
     "text": "MetaKernel Magics",
     "url": "https://github.com/calysto/metakernel/blob/master/metakernel/magics/README.md"
    }
   ],
   "mimetype": "text/x-octave",
   "name": "octave",
   "version": "3.6.2"
  }
 },
 "nbformat": 4,
 "nbformat_minor": 2
}
